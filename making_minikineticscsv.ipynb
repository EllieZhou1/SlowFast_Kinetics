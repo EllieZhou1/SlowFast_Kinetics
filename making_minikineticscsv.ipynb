{
 "cells": [
  {
   "cell_type": "code",
   "execution_count": 1,
   "id": "d2358bf6",
   "metadata": {},
   "outputs": [
    {
     "name": "stdout",
     "output_type": "stream",
     "text": [
      "{'label': 'slapping', 'youtube_id': '--7goKgS4kc', 'time_start': '15', 'time_end': '25', 'split': 'validate', 'full_path': '/n/fs/visualai-scr/Data/Kinetics_cvf/frames/val/slapping/--7goKgS4kc_000015_000025', 'num_files': '300'}\n"
     ]
    }
   ],
   "source": [
    "#Make mini csv file with only 50 labels from mimetics\n",
    "\n",
    "import csv\n",
    "import os\n",
    "\n",
    "for item in list(csv.DictReader(open(\"./clean_validate.csv\"))):\n",
    "    print(item)\n",
    "    break"
   ]
  },
  {
   "cell_type": "code",
   "execution_count": 2,
   "id": "1d12b3bd",
   "metadata": {},
   "outputs": [
    {
     "name": "stdout",
     "output_type": "stream",
     "text": [
      "['playing guitar', 'bowling', 'playing saxophone', 'brushing teeth', 'playing basketball', 'tying tie', 'skiing slalom', 'brushing hair', 'punching person (boxing)', 'playing accordion', 'archery', 'catching or throwing frisbee', 'drinking', 'reading book', 'eating ice cream', 'flying kite', 'sweeping floor', 'walking the dog', 'skipping rope', 'clean and jerk', 'eating cake', 'catching or throwing baseball', 'skiing (not slalom or crosscountry)', 'juggling soccer ball', 'deadlifting', 'driving car', 'cleaning windows', 'shooting basketball', 'canoeing or kayaking', 'surfing water', 'playing volleyball', 'opening bottle', 'playing piano', 'writing', 'dribbling basketball', 'reading newspaper', 'playing violin', 'juggling balls', 'playing trumpet', 'smoking', 'shooting goal (soccer)', 'hitting baseball', 'sword fighting', 'climbing ladder', 'playing bass guitar', 'playing tennis', 'climbing a rope', 'golf driving', 'hurdling', 'dunking basketball']\n"
     ]
    }
   ],
   "source": [
    "mimetics_path = \"/n/fs/visualai-scr/Data/Mimetics/Mimetics_videos\"\n",
    "labels = [name for name in os.listdir(mimetics_path)]\n",
    "print(labels)"
   ]
  },
  {
   "cell_type": "code",
   "execution_count": 4,
   "id": "f97aebd1",
   "metadata": {},
   "outputs": [
    {
     "name": "stdout",
     "output_type": "stream",
     "text": [
      "Label: walking the dog, Video Paths: 10\n",
      "Label: smoking, Video Paths: 8\n",
      "Label: writing, Video Paths: 10\n",
      "Label: playing violin, Video Paths: 10\n",
      "Label: dunking basketball, Video Paths: 10\n",
      "Label: juggling soccer ball, Video Paths: 10\n",
      "Label: surfing water, Video Paths: 8\n",
      "Label: playing trumpet, Video Paths: 9\n",
      "Label: climbing a rope, Video Paths: 10\n",
      "Label: dribbling basketball, Video Paths: 8\n",
      "Label: archery, Video Paths: 10\n",
      "Label: bowling, Video Paths: 8\n",
      "Label: sword fighting, Video Paths: 8\n",
      "Label: playing tennis, Video Paths: 9\n",
      "Label: playing guitar, Video Paths: 9\n",
      "Label: playing bass guitar, Video Paths: 9\n",
      "Label: eating ice cream, Video Paths: 10\n",
      "Label: shooting basketball, Video Paths: 8\n",
      "Label: flying kite, Video Paths: 10\n",
      "Label: skiing (not slalom or crosscountry), Video Paths: 10\n",
      "Label: punching person (boxing), Video Paths: 9\n",
      "Label: hurdling, Video Paths: 9\n",
      "Label: shooting goal (soccer), Video Paths: 10\n",
      "Label: canoeing or kayaking, Video Paths: 9\n",
      "Label: skiing slalom, Video Paths: 9\n",
      "Label: eating cake, Video Paths: 10\n",
      "Label: golf driving, Video Paths: 10\n",
      "Label: deadlifting, Video Paths: 8\n",
      "Label: climbing ladder, Video Paths: 8\n",
      "Label: skipping rope, Video Paths: 10\n",
      "Label: brushing teeth, Video Paths: 9\n",
      "Label: reading book, Video Paths: 10\n",
      "Label: playing basketball, Video Paths: 6\n",
      "Label: playing piano, Video Paths: 10\n",
      "Label: playing volleyball, Video Paths: 10\n",
      "Label: clean and jerk, Video Paths: 10\n",
      "Label: sweeping floor, Video Paths: 9\n",
      "Label: playing saxophone, Video Paths: 9\n",
      "Label: reading newspaper, Video Paths: 10\n",
      "Label: hitting baseball, Video Paths: 9\n",
      "Label: driving car, Video Paths: 8\n",
      "Label: brushing hair, Video Paths: 9\n",
      "Label: catching or throwing frisbee, Video Paths: 8\n",
      "Label: drinking, Video Paths: 10\n",
      "Label: playing accordion, Video Paths: 8\n",
      "Label: catching or throwing baseball, Video Paths: 9\n",
      "Label: tying tie, Video Paths: 10\n",
      "Label: opening bottle, Video Paths: 9\n",
      "Label: juggling balls, Video Paths: 9\n",
      "Label: cleaning windows, Video Paths: 9\n",
      "total number of labels: 50\n"
     ]
    }
   ],
   "source": [
    "# Read from clean_train.csv and write to mini_train.csv if label is in mimetics_labels\n",
    "\n",
    "count = 0\n",
    "\n",
    "dictionary = {}\n",
    "\n",
    "with open(\"./clean_validate.csv\", \"r\") as infile, open(\"./mini_val.csv\", \"w\", newline='') as outfile:\n",
    "    reader = csv.DictReader(infile)\n",
    "    writer = csv.DictWriter(outfile, fieldnames=reader.fieldnames)\n",
    "    writer.writeheader()\n",
    "    for row in reader:\n",
    "        if row['label'] in labels: #if the row's label is in the mimetics labels\n",
    "            count += 1\n",
    "            writer.writerow(row) #write the row to the new file\n",
    "            if row['label'] not in dictionary:\n",
    "                dictionary[row['label']] = []\n",
    "\n",
    "            dictionary[row['label']].append(row['full_path'])\n",
    "\n",
    "for label, video_paths in dictionary.items():\n",
    "    print(f\"Label: {label}, Video Paths: {len(video_paths)}\")\n",
    "\n",
    "print(f\"total number of labels: {len(dictionary)}\")\n"
   ]
  }
 ],
 "metadata": {
  "kernelspec": {
   "display_name": "ellie_env",
   "language": "python",
   "name": "python3"
  },
  "language_info": {
   "codemirror_mode": {
    "name": "ipython",
    "version": 3
   },
   "file_extension": ".py",
   "mimetype": "text/x-python",
   "name": "python",
   "nbconvert_exporter": "python",
   "pygments_lexer": "ipython3",
   "version": "3.10.13"
  }
 },
 "nbformat": 4,
 "nbformat_minor": 5
}
